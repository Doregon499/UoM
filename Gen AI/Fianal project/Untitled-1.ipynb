{
  "cells": [
    {
      "cell_type": "code",
      "execution_count": null,
      "metadata": {
        "id": "qWD2t3srVw8A"
      },
      "outputs": [],
      "source": [
        "!pip install -qq midi_neural_processor\n",
        "!pip install -qq keras_hub\n",
        "!pip install -qq \"keras>=3.6.0\"  # Allows use of keras.utils.Config.\n",
        "!sudo apt-get -qq install -y fluidsynth 2> /dev/null\n",
        "!pip install -qq pyfluidsynth scipy\n"
      ]
    },
    {
      "cell_type": "code",
      "source": [
        "import os\n",
        "import random\n",
        "import tempfile\n",
        "\n",
        "import keras\n",
        "import midi_neural_processor.processor as midi_tokenizer\n",
        "import numpy as np\n",
        "from keras import callbacks, layers, ops, optimizers, utils\n",
        "from keras_hub import layers as hub_layers\n",
        "from os import path\n"
      ],
      "metadata": {
        "id": "af8rsbnUZnS_"
      },
      "execution_count": null,
      "outputs": []
    }
  ],
  "metadata": {
    "language_info": {
      "name": "python"
    },
    "colab": {
      "provenance": []
    }
  },
  "nbformat": 4,
  "nbformat_minor": 0
}